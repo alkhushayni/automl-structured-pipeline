{
 "cells": [
  {
   "cell_type": "code",
   "execution_count": 2,
   "metadata": {},
   "outputs": [],
   "source": [
    "import pandas as pd\n",
    "import warnings \n",
    "warnings.filterwarnings(\"ignore\")\n",
    "import matplotlib.pyplot as plt\n",
    "%matplotlib inline\n",
    "import seaborn as sns\n",
    "import gc \n",
    "import numpy as np\n",
    "from sklearn.linear_model import LogisticRegression\n",
    "from sklearn import metrics\n",
    "from sklearn.metrics import accuracy_score\n",
    "from sklearn.metrics import f1_score\n",
    "from sklearn.metrics import roc_curve\n",
    "from sklearn.metrics import auc\n",
    "from sklearn.model_selection import train_test_split\n",
    "from sklearn.metrics import confusion_matrix\n",
    "from sklearn.metrics import precision_score\n",
    "from sklearn.metrics import recall_score\n",
    "from sklearn.naive_bayes import GaussianNB\n",
    "from sklearn.metrics import classification_report\n",
    "from sklearn.neighbors import KNeighborsClassifier\n",
    "from sklearn.tree import DecisionTreeClassifier\n",
    "from sklearn.ensemble import RandomForestClassifier"
   ]
  },
  {
   "cell_type": "code",
   "execution_count": 3,
   "metadata": {},
   "outputs": [],
   "source": [
    "def read_file(path):\n",
    "    df=pd.read_csv(path)\n",
    "    return(df)"
   ]
  },
  {
   "cell_type": "code",
   "execution_count": 4,
   "metadata": {},
   "outputs": [],
   "source": [
    "classifiers = [DecisionTreeClassifier(),\n",
    "    RandomForestClassifier(),\n",
    "    KNeighborsClassifier(10),\n",
    "    GaussianNB(),\n",
    "    LogisticRegression()]\n",
    "\n",
    "def features(name,model,X_train):\n",
    "    if name in [\"DecisionTreeClassifier\",\"RandomForestClassifier\"]:\n",
    "            importances = model.feature_importances_\n",
    "            sorted_feature_importance = sorted(zip(importances, list(X_train)), reverse=True)\n",
    "            sorted_imp=sorted_feature_importance[:5]\n",
    "            return sorted_imp\n",
    "    else:\n",
    "        return 'NA'\n",
    "        \n",
    "def classifier(df):\n",
    "    \n",
    "    y_true = df.IsRenewal\n",
    "    X = df.drop('IsRenewal', axis=1)\n",
    "    X_train, X_test, y_train, y_test = train_test_split(X, y_true, test_size=0.3, random_state=0)\n",
    "    \n",
    "    classifier_results=dict()\n",
    "    sorted_imp=[]\n",
    "    scored_df =[]\n",
    " \n",
    "    for clf in classifiers:\n",
    "        clf = clf.fit(X_train, y_train)\n",
    "        name = clf.__class__.__name__\n",
    "        \n",
    "        sorted_imp = features(name,clf,X_train)\n",
    "        \n",
    "        \n",
    "        train_predictions = clf.predict(X_test)\n",
    "        acc = accuracy_score(y_test, train_predictions)\n",
    "        pre = precision_score(y_test,train_predictions, average='weighted')\n",
    "        recall=recall_score(y_test,train_predictions, average='weighted')\n",
    "        f1=f1_score(y_test, train_predictions, labels=None, pos_label=1, average='weighted', sample_weight=None)\n",
    "        \n",
    "        classifier_results[name]=[sorted_imp,acc*100,pre*100,recall*100,f1*100]\n",
    "        score_df = pd.DataFrame(data=classifier_results, index=['top_5_features','Accuracy','Precision','Recall','F1 Score'])\n",
    "        score_df=score_df.T\n",
    "        score_df.index.name = 'Classifiers'   \n",
    "        score_df.reset_index(level=0, inplace=True)\n",
    "        score_df.sort_values('Accuracy',ascending= False,inplace= True)     \n",
    "    \n",
    "    return score_df \n",
    "\n",
    "        "
   ]
  },
  {
   "cell_type": "code",
   "execution_count": 5,
   "metadata": {},
   "outputs": [],
   "source": [
    "df= read_file('./modeldata.csv')"
   ]
  },
  {
   "cell_type": "code",
   "execution_count": 6,
   "metadata": {},
   "outputs": [
    {
     "data": {
      "text/plain": [
       "Index(['Unnamed: 0', 'IsSurplusLines', 'IsAgencyBilled', 'ProducerHoldFlag',\n",
       "       'BinderExpectedFlag', 'IsRenewal', 'YearTerm', 'AppPolicy',\n",
       "       'BindRequest', 'PriorClaim',\n",
       "       ...\n",
       "       'Westchester Fire Insurance Company',\n",
       "       'Western Heritage Insurance Company', 'Western Surety Co.',\n",
       "       'Western Surety Company', 'Western World', 'Western World Insurance Co',\n",
       "       'Zenith Insurance Company', 'Zurich', 'Zurich Insurance Company',\n",
       "       'Zurich Small Business'],\n",
       "      dtype='object', length=351)"
      ]
     },
     "execution_count": 6,
     "metadata": {},
     "output_type": "execute_result"
    }
   ],
   "source": [
    "df.columns"
   ]
  },
  {
   "cell_type": "code",
   "execution_count": 7,
   "metadata": {},
   "outputs": [],
   "source": [
    "x=classifier(df)"
   ]
  },
  {
   "cell_type": "code",
   "execution_count": 8,
   "metadata": {},
   "outputs": [
    {
     "data": {
      "text/html": [
       "<div>\n",
       "<style scoped>\n",
       "    .dataframe tbody tr th:only-of-type {\n",
       "        vertical-align: middle;\n",
       "    }\n",
       "\n",
       "    .dataframe tbody tr th {\n",
       "        vertical-align: top;\n",
       "    }\n",
       "\n",
       "    .dataframe thead th {\n",
       "        text-align: right;\n",
       "    }\n",
       "</style>\n",
       "<table border=\"1\" class=\"dataframe\">\n",
       "  <thead>\n",
       "    <tr style=\"text-align: right;\">\n",
       "      <th></th>\n",
       "      <th>Classifiers</th>\n",
       "      <th>top_5_features</th>\n",
       "      <th>Accuracy</th>\n",
       "      <th>Precision</th>\n",
       "      <th>Recall</th>\n",
       "      <th>F1 Score</th>\n",
       "    </tr>\n",
       "  </thead>\n",
       "  <tbody>\n",
       "    <tr>\n",
       "      <th>0</th>\n",
       "      <td>DecisionTreeClassifier</td>\n",
       "      <td>[(0.44818077201498485, Unnamed: 0), (0.2114066...</td>\n",
       "      <td>94.4496</td>\n",
       "      <td>94.4493</td>\n",
       "      <td>94.4496</td>\n",
       "      <td>94.4494</td>\n",
       "    </tr>\n",
       "    <tr>\n",
       "      <th>1</th>\n",
       "      <td>RandomForestClassifier</td>\n",
       "      <td>[(0.45246318900713495, Unnamed: 0), (0.1751316...</td>\n",
       "      <td>93.6126</td>\n",
       "      <td>93.5296</td>\n",
       "      <td>93.6126</td>\n",
       "      <td>93.5658</td>\n",
       "    </tr>\n",
       "    <tr>\n",
       "      <th>3</th>\n",
       "      <td>GaussianNB</td>\n",
       "      <td>NA</td>\n",
       "      <td>83.6182</td>\n",
       "      <td>86.3021</td>\n",
       "      <td>83.6182</td>\n",
       "      <td>76.1704</td>\n",
       "    </tr>\n",
       "    <tr>\n",
       "      <th>4</th>\n",
       "      <td>LogisticRegression</td>\n",
       "      <td>NA</td>\n",
       "      <td>83.6058</td>\n",
       "      <td>69.8993</td>\n",
       "      <td>83.6058</td>\n",
       "      <td>76.1406</td>\n",
       "    </tr>\n",
       "    <tr>\n",
       "      <th>2</th>\n",
       "      <td>KNeighborsClassifier</td>\n",
       "      <td>NA</td>\n",
       "      <td>83.0403</td>\n",
       "      <td>79.2148</td>\n",
       "      <td>83.0403</td>\n",
       "      <td>79.997</td>\n",
       "    </tr>\n",
       "  </tbody>\n",
       "</table>\n",
       "</div>"
      ],
      "text/plain": [
       "              Classifiers                                     top_5_features  \\\n",
       "0  DecisionTreeClassifier  [(0.44818077201498485, Unnamed: 0), (0.2114066...   \n",
       "1  RandomForestClassifier  [(0.45246318900713495, Unnamed: 0), (0.1751316...   \n",
       "3              GaussianNB                                                 NA   \n",
       "4      LogisticRegression                                                 NA   \n",
       "2    KNeighborsClassifier                                                 NA   \n",
       "\n",
       "  Accuracy Precision   Recall F1 Score  \n",
       "0  94.4496   94.4493  94.4496  94.4494  \n",
       "1  93.6126   93.5296  93.6126  93.5658  \n",
       "3  83.6182   86.3021  83.6182  76.1704  \n",
       "4  83.6058   69.8993  83.6058  76.1406  \n",
       "2  83.0403   79.2148  83.0403   79.997  "
      ]
     },
     "execution_count": 8,
     "metadata": {},
     "output_type": "execute_result"
    }
   ],
   "source": [
    "x"
   ]
  },
  {
   "cell_type": "code",
   "execution_count": null,
   "metadata": {},
   "outputs": [],
   "source": []
  }
 ],
 "metadata": {
  "kernelspec": {
   "display_name": "Python 3",
   "language": "python",
   "name": "python3"
  },
  "language_info": {
   "codemirror_mode": {
    "name": "ipython",
    "version": 3
   },
   "file_extension": ".py",
   "mimetype": "text/x-python",
   "name": "python",
   "nbconvert_exporter": "python",
   "pygments_lexer": "ipython3",
   "version": "3.7.6"
  }
 },
 "nbformat": 4,
 "nbformat_minor": 4
}
